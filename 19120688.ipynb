{
 "cells": [
  {
   "cell_type": "markdown",
   "metadata": {},
   "source": [
    "- MSSV: 19120688\n",
    "- Họ và tên: Đỗ Nhật Toàn"
   ]
  },
  {
   "cell_type": "markdown",
   "metadata": {},
   "source": [
    "# Import các thư viện"
   ]
  },
  {
   "cell_type": "code",
   "execution_count": null,
   "metadata": {},
   "outputs": [],
   "source": [
    "import matplotlib.pyplot as plt\n",
    "import pandas as pd\n",
    "import numpy as np"
   ]
  },
  {
   "cell_type": "markdown",
   "metadata": {},
   "source": [
    "# Hãy trực quan hóa các thông tin thống kê mô tả cho các biến"
   ]
  },
  {
   "cell_type": "code",
   "execution_count": null,
   "metadata": {},
   "outputs": [],
   "source": [
    "data = pd.read_csv('./ToyotaCorolla.csv', header=0)\n",
    "data = data.dropna()\n"
   ]
  },
  {
   "cell_type": "markdown",
   "metadata": {},
   "source": [
    "# Hãy trực quan hóa biểu đồ histogram cho `Price` theo từng biến biến theo `Fuel_type` và `Color`\n",
    "\n"
   ]
  },
  {
   "cell_type": "code",
   "execution_count": null,
   "metadata": {},
   "outputs": [],
   "source": [
    "fig_obj = plt.figure(figsize=(10, 7.5))\n",
    "ax = plt.subplot(111)\n",
    "ax.spines[\"bottom\"].set_visible(True)  # Set the spines, or box bounds visibility\n",
    "ax.spines[\"left\"].set_visible(True)    \n",
    "ax.spines['right'].set_visible(False)\n",
    "ax.spines['top'].set_visible(False)\n",
    "p = plt.hist(data.Price, bins = 19, color=\"red\", edgecolor='black')\n",
    "plt.title(\"Global active power\", fontsize=14, fontweight='bold')\n",
    "plt.xlabel(\"Global active power (kilowatts)\")\n",
    "plt.ylabel(\"Frequency\")\n",
    "plt.tight_layout()"
   ]
  }
 ],
 "metadata": {
  "language_info": {
   "name": "python"
  },
  "orig_nbformat": 4
 },
 "nbformat": 4,
 "nbformat_minor": 2
}
