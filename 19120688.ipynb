{
 "cells": [
  {
   "cell_type": "markdown",
   "metadata": {},
   "source": [
    "- MSSV: 19120688\n",
    "- Họ và tên: Đỗ Nhật Toàn"
   ]
  },
  {
   "cell_type": "markdown",
   "metadata": {},
   "source": [
    "# Import các thư viện"
   ]
  },
  {
   "cell_type": "code",
   "execution_count": null,
   "metadata": {},
   "outputs": [],
   "source": [
    "import matplotlib.pyplot as plt\n",
    "import pandas as pd\n",
    "import numpy as np\n",
    "import seaborn as sns\n",
    "data = pd.read_csv('./ToyotaCorolla.csv', header=0)\n",
    "data = data.dropna()"
   ]
  },
  {
   "cell_type": "code",
   "execution_count": null,
   "metadata": {},
   "outputs": [],
   "source": [
    "data.shape"
   ]
  },
  {
   "cell_type": "code",
   "execution_count": null,
   "metadata": {},
   "outputs": [],
   "source": [
    "data.head()"
   ]
  },
  {
   "cell_type": "markdown",
   "metadata": {},
   "source": [
    "# Hãy trực quan hóa các thông tin thống kê mô tả cho các biến"
   ]
  },
  {
   "cell_type": "markdown",
   "metadata": {},
   "source": [
    "## Khai báo danh sách thuộc tính"
   ]
  },
  {
   "cell_type": "code",
   "execution_count": null,
   "metadata": {},
   "outputs": [],
   "source": [
    "atr_list = ['Price', 'Age', 'Kilometers', 'Fuel_Type', 'HP', 'Metallic', 'Color', 'Automatic', 'CC', 'Doors', 'Quarterly_Tax', 'Weight']\n",
    "numeric_list = ['Price', 'Age', 'HP', 'CC', 'Doors', 'Quarterly_Tax', 'Weight']\n",
    "categorical_list = ['Fuel_Type', 'Metallic', 'Automatic', 'Color']"
   ]
  },
  {
   "cell_type": "markdown",
   "metadata": {},
   "source": [
    "## Biểu đồ box plot thể hiện thông tin thống kê mô tả của các thuộc tính numeric"
   ]
  },
  {
   "cell_type": "code",
   "execution_count": null,
   "metadata": {},
   "outputs": [],
   "source": [
    "for x in numeric_list:\n",
    "    print(\"Descriptive statistics information of\", x)\n",
    "    print(data[x].describe())\n",
    "    fig_obj = plt.figure(figsize=(10, 7.5))\n",
    "    ax = plt.subplot(111)\n",
    "    ax.spines[\"bottom\"].set_visible(True)  # Set the spines, or box bounds visibility\n",
    "    ax.spines[\"left\"].set_visible(True)    \n",
    "    ax.spines['right'].set_visible(False)\n",
    "    ax.spines['top'].set_visible(False)\n",
    "    ''' Plot the histogram of '''\n",
    "    p = plt.boxplot(data[x])\n",
    "    plt.title(x, fontsize=14, fontweight='bold')\n",
    "    ''' Save figure '''\n",
    "    plt.xlabel(x)\n",
    "    plt.ylabel(\"Value\")\n",
    "    plt.tight_layout()\n",
    "    plt.show()"
   ]
  },
  {
   "cell_type": "markdown",
   "metadata": {},
   "source": [
    "## Biểu đồ histogram thể hiện thông tin của các thuộc tính numeric"
   ]
  },
  {
   "cell_type": "code",
   "execution_count": null,
   "metadata": {},
   "outputs": [],
   "source": [
    "\n",
    "for x in numeric_list:\n",
    "    fig_obj = plt.figure(figsize=(10, 7.5))\n",
    "    ax = plt.subplot(111)\n",
    "    ax.spines[\"bottom\"].set_visible(True)  # Set the spines, or box bounds visibility\n",
    "    ax.spines[\"left\"].set_visible(True)    \n",
    "    ax.spines['right'].set_visible(False)\n",
    "    ax.spines['top'].set_visible(False)\n",
    "    ''' Plot the histogram of '''\n",
    "    p = plt.hist(data[x], bins = 30)\n",
    "    plt.title(x, fontsize=14, fontweight='bold')\n",
    "    ''' Save figure '''\n",
    "    plt.xlabel(x)\n",
    "    plt.ylabel(\"Frequency\")\n",
    "    plt.tight_layout()\n",
    "    plt.show()"
   ]
  },
  {
   "cell_type": "code",
   "execution_count": null,
   "metadata": {},
   "outputs": [],
   "source": [
    "for x in categorical_list[:-1]:\n",
    "    fig_obj = plt.figure(figsize=(10, 7.5))\n",
    "    fig_obj.set_facecolor('white')\n",
    "    value = data[x].value_counts()\n",
    "    label = data[x].unique().tolist()\n",
    "    ax = plt.subplot(111)\n",
    "    plt.title(x, fontsize=14, fontweight='bold')\n",
    "    plt.pie(value,  startangle=90, wedgeprops = {\"edgecolor\" : \"black\",\n",
    "                        'linewidth': 0.3,\n",
    "                        'antialiased': True})\n",
    "    plt.legend(label,loc=1)\n",
    "    plt.tight_layout()\n",
    "    plt.show()"
   ]
  },
  {
   "cell_type": "code",
   "execution_count": null,
   "metadata": {},
   "outputs": [],
   "source": [
    "fig_obj = plt.figure(figsize=(10, 7.5))\n",
    "fig_obj.set_facecolor('white')\n",
    "value = data['Color'].value_counts()\n",
    "label = data['Color'].unique().tolist()\n",
    "ax = plt.subplot(111)\n",
    "plt.title('Color', fontsize=14, fontweight='bold')\n",
    "plt.pie(value, colors=label, startangle=90, wedgeprops = {\"edgecolor\" : \"black\",\n",
    "                      'linewidth': 0.3,\n",
    "                      'antialiased': True})\n",
    "plt.legend(label,loc=1)\n",
    "plt.tight_layout()\n",
    "plt.show()"
   ]
  },
  {
   "cell_type": "code",
   "execution_count": null,
   "metadata": {},
   "outputs": [],
   "source": [
    "    # fig_obj = plt.figure(figsize=(10, 7.5))\n",
    "    # ax = plt.subplot(111)\n",
    "    # ax.spines[\"bottom\"].set_visible(True)  # Set the spines, or box bounds visibility\n",
    "    # ax.spines[\"left\"].set_visible(True)    \n",
    "    # ax.spines['right'].set_visible(False)\n",
    "    # ax.spines['top'].set_visible(False)\n",
    "    # ''' Plot the histogram of '''\n",
    "    # p = plt.bar(data[x], bins = 40)\n",
    "    # plt.title(x, fontsize=14, fontweight='bold')\n",
    "    # ''' Save figure '''\n",
    "    # plt.tight_layout()"
   ]
  },
  {
   "cell_type": "markdown",
   "metadata": {},
   "source": [
    "# Tìm và trực quan mối quan hệ tương quan giữa các cặp biến (nếu có)"
   ]
  },
  {
   "cell_type": "code",
   "execution_count": null,
   "metadata": {},
   "outputs": [],
   "source": [
    "corr = data.corr(method=\"pearson\")\n",
    "f, ax = plt.subplots(figsize=(12, 10))\n",
    "mask = np.triu(np.ones_like(corr, dtype=bool))\n",
    "cmap = sns.diverging_palette(230, 20, as_cmap=True)\n",
    "sns.heatmap(corr, annot=True, mask = mask, cmap=cmap)"
   ]
  },
  {
   "cell_type": "markdown",
   "metadata": {},
   "source": [
    "## Weight vs. Quarterly_Tax"
   ]
  },
  {
   "cell_type": "code",
   "execution_count": null,
   "metadata": {},
   "outputs": [],
   "source": [
    "sns.lmplot(x=\"Weight\",y=\"Quarterly_Tax\", data=data, order=1)\n",
    "sns.lmplot(x=\"Age\",y=\"Kilometers\", data=data, order=1)\n",
    "sns.lmplot(x=\"Weight\",y=\"Price\", data=data, order=1)  "
   ]
  },
  {
   "cell_type": "markdown",
   "metadata": {},
   "source": [
    "# Hãy trực quan hóa biểu đồ histogram cho `Price` theo từng biến biến theo `Fuel_type` và `Color`\n",
    "\n"
   ]
  },
  {
   "cell_type": "code",
   "execution_count": null,
   "metadata": {},
   "outputs": [],
   "source": [
    "fig_obj = plt.figure(figsize=(10, 7.5))\n",
    "ax = plt.subplot(111)\n",
    "ax.spines[\"bottom\"].set_visible(True)  # Set the spines, or box bounds visibility\n",
    "ax.spines[\"left\"].set_visible(True)    \n",
    "ax.spines['right'].set_visible(False)\n",
    "ax.spines['top'].set_visible(False)\n",
    "p = plt.hist(data.Price, bins = 19, color=\"red\", edgecolor='black')\n",
    "plt.title(\"Global active power\", fontsize=14, fontweight='bold')\n",
    "plt.xlabel(\"Global active power (kilowatts)\")\n",
    "plt.ylabel(\"Frequency\")\n",
    "plt.tight_layout()"
   ]
  }
 ],
 "metadata": {
  "kernelspec": {
   "display_name": "Python 3.9.8 64-bit",
   "language": "python",
   "name": "python3"
  },
  "language_info": {
   "codemirror_mode": {
    "name": "ipython",
    "version": 3
   },
   "file_extension": ".py",
   "mimetype": "text/x-python",
   "name": "python",
   "nbconvert_exporter": "python",
   "pygments_lexer": "ipython3",
   "version": "3.9.8"
  },
  "orig_nbformat": 4,
  "vscode": {
   "interpreter": {
    "hash": "0d591c6e422414675974e227c13f5382000c440fedd3c5006ef2be5d887f0ba7"
   }
  }
 },
 "nbformat": 4,
 "nbformat_minor": 2
}
